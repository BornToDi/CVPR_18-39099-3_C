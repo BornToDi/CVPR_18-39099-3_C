import random
X1 = []
X2 = []
Y = []

for i in range(50):
  X1.append(random.randint(0, 100))
  X2.append(random.randint(0, 100))
  if (X1[i] > X2[i]):
    Y.append(1)
  else:
    Y.append(0)
    import matplotlib.pyplot as plt

for i in range(len(Y)):
    if Y[i] == 0:
        plt.plot(X1[i], X2[i], "r+")
    else:
        plt.plot(X1[i], X2[i], "g+")